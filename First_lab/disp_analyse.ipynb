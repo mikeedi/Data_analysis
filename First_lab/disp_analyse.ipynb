{
 "cells": [
  {
   "cell_type": "markdown",
   "metadata": {},
   "source": [
    "# Дисперсионный анализ"
   ]
  },
  {
   "cell_type": "code",
   "execution_count": 1,
   "metadata": {
    "collapsed": true
   },
   "outputs": [],
   "source": [
    "# импортируем нужные библиотеки\n",
    "import pandas as pd\n",
    "import numpy as np\n",
    "import scipy.stats as stats\n",
    "import seaborn as sns\n",
    "\n",
    "# настраиваем изображение графиков\n",
    "%matplotlib inline\n",
    "from pylab import rcParams\n",
    "rcParams['figure.figsize'] = 12, 8\n",
    "import matplotlib.pyplot as plt"
   ]
  },
  {
   "cell_type": "code",
   "execution_count": 2,
   "metadata": {
    "collapsed": true
   },
   "outputs": [],
   "source": [
    "df = pd.read_excel('../tr/tr.xls', skiprows=7)"
   ]
  },
  {
   "cell_type": "code",
   "execution_count": 3,
   "metadata": {},
   "outputs": [
    {
     "data": {
      "text/html": [
       "<div>\n",
       "<style>\n",
       "    .dataframe thead tr:only-child th {\n",
       "        text-align: right;\n",
       "    }\n",
       "\n",
       "    .dataframe thead th {\n",
       "        text-align: left;\n",
       "    }\n",
       "\n",
       "    .dataframe tbody tr th {\n",
       "        vertical-align: top;\n",
       "    }\n",
       "</style>\n",
       "<table border=\"1\" class=\"dataframe\">\n",
       "  <thead>\n",
       "    <tr style=\"text-align: right;\">\n",
       "      <th></th>\n",
       "      <th>Region</th>\n",
       "      <th>Days</th>\n",
       "      <th>Visits</th>\n",
       "      <th>ExtrCharges</th>\n",
       "      <th>Tips</th>\n",
       "      <th>USD</th>\n",
       "    </tr>\n",
       "  </thead>\n",
       "  <tbody>\n",
       "    <tr>\n",
       "      <th>0</th>\n",
       "      <td>1</td>\n",
       "      <td>11.0</td>\n",
       "      <td>4</td>\n",
       "      <td>202.0</td>\n",
       "      <td>204.0</td>\n",
       "      <td>23624.0</td>\n",
       "    </tr>\n",
       "    <tr>\n",
       "      <th>1</th>\n",
       "      <td>1</td>\n",
       "      <td>18.0</td>\n",
       "      <td>2</td>\n",
       "      <td>160.0</td>\n",
       "      <td>139.0</td>\n",
       "      <td>11144.0</td>\n",
       "    </tr>\n",
       "    <tr>\n",
       "      <th>2</th>\n",
       "      <td>1</td>\n",
       "      <td>20.0</td>\n",
       "      <td>2</td>\n",
       "      <td>137.0</td>\n",
       "      <td>117.0</td>\n",
       "      <td>10614.0</td>\n",
       "    </tr>\n",
       "    <tr>\n",
       "      <th>3</th>\n",
       "      <td>1</td>\n",
       "      <td>14.0</td>\n",
       "      <td>4</td>\n",
       "      <td>270.0</td>\n",
       "      <td>208.0</td>\n",
       "      <td>24190.0</td>\n",
       "    </tr>\n",
       "    <tr>\n",
       "      <th>4</th>\n",
       "      <td>1</td>\n",
       "      <td>15.0</td>\n",
       "      <td>4</td>\n",
       "      <td>212.0</td>\n",
       "      <td>173.0</td>\n",
       "      <td>16490.0</td>\n",
       "    </tr>\n",
       "    <tr>\n",
       "      <th>5</th>\n",
       "      <td>1</td>\n",
       "      <td>22.0</td>\n",
       "      <td>2</td>\n",
       "      <td>161.0</td>\n",
       "      <td>178.0</td>\n",
       "      <td>NaN</td>\n",
       "    </tr>\n",
       "    <tr>\n",
       "      <th>6</th>\n",
       "      <td>1</td>\n",
       "      <td>17.0</td>\n",
       "      <td>2</td>\n",
       "      <td>190.0</td>\n",
       "      <td>153.0</td>\n",
       "      <td>13354.0</td>\n",
       "    </tr>\n",
       "    <tr>\n",
       "      <th>7</th>\n",
       "      <td>1</td>\n",
       "      <td>15.0</td>\n",
       "      <td>4</td>\n",
       "      <td>212.0</td>\n",
       "      <td>173.0</td>\n",
       "      <td>16094.0</td>\n",
       "    </tr>\n",
       "    <tr>\n",
       "      <th>8</th>\n",
       "      <td>1</td>\n",
       "      <td>NaN</td>\n",
       "      <td>4</td>\n",
       "      <td>NaN</td>\n",
       "      <td>183.0</td>\n",
       "      <td>NaN</td>\n",
       "    </tr>\n",
       "    <tr>\n",
       "      <th>9</th>\n",
       "      <td>1</td>\n",
       "      <td>12.0</td>\n",
       "      <td>6</td>\n",
       "      <td>312.0</td>\n",
       "      <td>198.0</td>\n",
       "      <td>31945.0</td>\n",
       "    </tr>\n",
       "  </tbody>\n",
       "</table>\n",
       "</div>"
      ],
      "text/plain": [
       "   Region  Days  Visits  ExtrCharges   Tips      USD\n",
       "0       1  11.0       4        202.0  204.0  23624.0\n",
       "1       1  18.0       2        160.0  139.0  11144.0\n",
       "2       1  20.0       2        137.0  117.0  10614.0\n",
       "3       1  14.0       4        270.0  208.0  24190.0\n",
       "4       1  15.0       4        212.0  173.0  16490.0\n",
       "5       1  22.0       2        161.0  178.0      NaN\n",
       "6       1  17.0       2        190.0  153.0  13354.0\n",
       "7       1  15.0       4        212.0  173.0  16094.0\n",
       "8       1   NaN       4          NaN  183.0      NaN\n",
       "9       1  12.0       6        312.0  198.0  31945.0"
      ]
     },
     "execution_count": 3,
     "metadata": {},
     "output_type": "execute_result"
    }
   ],
   "source": [
    "df.head(10)"
   ]
  },
  {
   "cell_type": "code",
   "execution_count": 4,
   "metadata": {},
   "outputs": [
    {
     "data": {
      "text/html": [
       "<div>\n",
       "<style>\n",
       "    .dataframe thead tr:only-child th {\n",
       "        text-align: right;\n",
       "    }\n",
       "\n",
       "    .dataframe thead th {\n",
       "        text-align: left;\n",
       "    }\n",
       "\n",
       "    .dataframe tbody tr th {\n",
       "        vertical-align: top;\n",
       "    }\n",
       "</style>\n",
       "<table border=\"1\" class=\"dataframe\">\n",
       "  <thead>\n",
       "    <tr style=\"text-align: right;\">\n",
       "      <th></th>\n",
       "      <th>count</th>\n",
       "      <th>mean</th>\n",
       "      <th>std</th>\n",
       "      <th>min</th>\n",
       "      <th>25%</th>\n",
       "      <th>50%</th>\n",
       "      <th>75%</th>\n",
       "      <th>max</th>\n",
       "    </tr>\n",
       "    <tr>\n",
       "      <th>Region</th>\n",
       "      <th></th>\n",
       "      <th></th>\n",
       "      <th></th>\n",
       "      <th></th>\n",
       "      <th></th>\n",
       "      <th></th>\n",
       "      <th></th>\n",
       "      <th></th>\n",
       "    </tr>\n",
       "  </thead>\n",
       "  <tbody>\n",
       "    <tr>\n",
       "      <th>1</th>\n",
       "      <td>43.0</td>\n",
       "      <td>178.465116</td>\n",
       "      <td>41.340830</td>\n",
       "      <td>106.0</td>\n",
       "      <td>141.0</td>\n",
       "      <td>183.0</td>\n",
       "      <td>201.0</td>\n",
       "      <td>288.0</td>\n",
       "    </tr>\n",
       "    <tr>\n",
       "      <th>2</th>\n",
       "      <td>14.0</td>\n",
       "      <td>179.142857</td>\n",
       "      <td>37.317468</td>\n",
       "      <td>124.0</td>\n",
       "      <td>154.0</td>\n",
       "      <td>168.0</td>\n",
       "      <td>208.5</td>\n",
       "      <td>251.0</td>\n",
       "    </tr>\n",
       "    <tr>\n",
       "      <th>3</th>\n",
       "      <td>32.0</td>\n",
       "      <td>153.468750</td>\n",
       "      <td>35.693122</td>\n",
       "      <td>98.0</td>\n",
       "      <td>133.0</td>\n",
       "      <td>146.0</td>\n",
       "      <td>166.5</td>\n",
       "      <td>243.0</td>\n",
       "    </tr>\n",
       "  </tbody>\n",
       "</table>\n",
       "</div>"
      ],
      "text/plain": [
       "        count        mean        std    min    25%    50%    75%    max\n",
       "Region                                                                 \n",
       "1        43.0  178.465116  41.340830  106.0  141.0  183.0  201.0  288.0\n",
       "2        14.0  179.142857  37.317468  124.0  154.0  168.0  208.5  251.0\n",
       "3        32.0  153.468750  35.693122   98.0  133.0  146.0  166.5  243.0"
      ]
     },
     "execution_count": 4,
     "metadata": {},
     "output_type": "execute_result"
    }
   ],
   "source": [
    "df.groupby(by='Region')['Tips'].describe()"
   ]
  },
  {
   "cell_type": "code",
   "execution_count": 5,
   "metadata": {
    "collapsed": true
   },
   "outputs": [],
   "source": [
    "col = df.columns"
   ]
  },
  {
   "cell_type": "code",
   "execution_count": 6,
   "metadata": {
    "collapsed": true
   },
   "outputs": [],
   "source": [
    "# оставим только 2 столбца\n",
    "col = col.drop(labels=['Region', 'Tips'])"
   ]
  },
  {
   "cell_type": "code",
   "execution_count": 7,
   "metadata": {
    "collapsed": true
   },
   "outputs": [],
   "source": [
    "df = df.drop(labels=col, axis=1)"
   ]
  },
  {
   "cell_type": "code",
   "execution_count": 8,
   "metadata": {
    "collapsed": true
   },
   "outputs": [],
   "source": [
    "df.dropna(inplace=True)"
   ]
  },
  {
   "cell_type": "code",
   "execution_count": 31,
   "metadata": {
    "collapsed": true
   },
   "outputs": [],
   "source": [
    "reg1 = df[df.Region == 1].Tips\n",
    "reg2 = df[df.Region == 2].Tips\n",
    "reg3 = df[df.Region == 3].Tips"
   ]
  },
  {
   "cell_type": "code",
   "execution_count": 10,
   "metadata": {
    "collapsed": true
   },
   "outputs": [],
   "source": [
    "# определим удобную для визуализации функцию\n",
    "def get_visual(data):\n",
    "    fig, (ax1, ax2) = plt.subplots(1, 2, figsize=(12,4))\n",
    "    sns.distplot(data, ax=ax1)\n",
    "    stats.probplot(data, plot=ax2)\n",
    "    plt.show()\n",
    "    print('Shapiro-Wilk test: p-value={}'.format(stats.shapiro(data)[1]))"
   ]
  },
  {
   "cell_type": "code",
   "execution_count": 13,
   "metadata": {},
   "outputs": [
    {
     "data": {
      "image/png": "[encoded data removed]",
      "text/plain": [
       "<matplotlib.figure.Figure at 0x7f77dc2842e8>"
      ]
     },
     "metadata": {},
     "output_type": "display_data"
    },
    {
     "name": "stdout",
     "output_type": "stream",
     "text": [
      "Shapiro-Wilk test: p-value=0.04872238636016846\n"
     ]
    }
   ],
   "source": [
    "get_visual(reg1)"
   ]
  },
  {
   "cell_type": "code",
   "execution_count": 14,
   "metadata": {},
   "outputs": [
    {
     "data": {
      "image/png": "[encoded data removed]",
      "text/plain": [
       "<matplotlib.figure.Figure at 0x7f77d681d1d0>"
      ]
     },
     "metadata": {},
     "output_type": "display_data"
    },
    {
     "name": "stdout",
     "output_type": "stream",
     "text": [
      "Shapiro-Wilk test: p-value=0.330227792263031\n"
     ]
    }
   ],
   "source": [
    "get_visual(reg2)"
   ]
  },
  {
   "cell_type": "code",
   "execution_count": 32,
   "metadata": {},
   "outputs": [
    {
     "data": {
      "image/png": "[encoded data removed]",
      "text/plain": [
       "<matplotlib.figure.Figure at 0x7f77d657d668>"
      ]
     },
     "metadata": {},
     "output_type": "display_data"
    },
    {
     "name": "stdout",
     "output_type": "stream",
     "text": [
      "Shapiro-Wilk test: p-value=0.042984738945961\n"
     ]
    }
   ],
   "source": [
    "get_visual(reg3)"
   ]
  },
  {
   "cell_type": "markdown",
   "metadata": {},
   "source": [
    "Логарифмируем наши выборки"
   ]
  },
  {
   "cell_type": "code",
   "execution_count": 33,
   "metadata": {
    "collapsed": true
   },
   "outputs": [],
   "source": [
    "reg1_log = np.log(reg1)\n",
    "reg2_log = np.log(reg2)\n",
    "reg3_log = np.log(reg3)"
   ]
  },
  {
   "cell_type": "markdown",
   "metadata": {},
   "source": [
    "Снова проверим нормальность и гомогенность дисперсий"
   ]
  },
  {
   "cell_type": "code",
   "execution_count": 35,
   "metadata": {},
   "outputs": [
    {
     "name": "stdout",
     "output_type": "stream",
     "text": [
      "Shapiro-Wilk test: p-value=0.2536405026912689\n",
      "Shapiro-Wilk test: p-value=0.6228918433189392\n",
      "Shapiro-Wilk test: p-value=0.5510596632957458\n"
     ]
    }
   ],
   "source": [
    "print('Shapiro-Wilk test: p-value={}'.format(stats.shapiro(reg1_log)[1]))\n",
    "print('Shapiro-Wilk test: p-value={}'.format(stats.shapiro(reg2_log)[1]))\n",
    "print('Shapiro-Wilk test: p-value={}'.format(stats.shapiro(reg3_log)[1]))"
   ]
  },
  {
   "cell_type": "code",
   "execution_count": 36,
   "metadata": {},
   "outputs": [
    {
     "data": {
      "text/plain": [
       "FlignerResult(statistic=0.67040526240385412, pvalue=0.71519315122102389)"
      ]
     },
     "execution_count": 36,
     "metadata": {},
     "output_type": "execute_result"
    }
   ],
   "source": [
    "stats.fligner(reg1, reg2, reg3)"
   ]
  },
  {
   "cell_type": "markdown",
   "metadata": {
    "collapsed": true
   },
   "source": [
    "Посчитаем F значение"
   ]
  },
  {
   "cell_type": "code",
   "execution_count": 39,
   "metadata": {},
   "outputs": [
    {
     "data": {
      "text/plain": [
       "F_onewayResult(statistic=4.7932983472171236, pvalue=0.010625819715604121)"
      ]
     },
     "execution_count": 39,
     "metadata": {},
     "output_type": "execute_result"
    }
   ],
   "source": [
    "stats.f_oneway(reg1_log, reg2_log, reg3_log)"
   ]
  },
  {
   "cell_type": "markdown",
   "metadata": {},
   "source": [
    "Как видим, p значение мало (< 0.05), что говорит о неравентсве средних как миниму в 2 выборках"
   ]
  },
  {
   "cell_type": "code",
   "execution_count": null,
   "metadata": {
    "collapsed": true
   },
   "outputs": [],
   "source": []
  },
  {
   "cell_type": "code",
   "execution_count": null,
   "metadata": {
    "collapsed": true
   },
   "outputs": [],
   "source": []
  },
  {
   "cell_type": "code",
   "execution_count": null,
   "metadata": {
    "collapsed": true
   },
   "outputs": [],
   "source": []
  },
  {
   "cell_type": "markdown",
   "metadata": {},
   "source": [
    "_ради интереса_"
   ]
  },
  {
   "cell_type": "code",
   "execution_count": 44,
   "metadata": {},
   "outputs": [
    {
     "data": {
      "text/plain": [
       "Ttest_indResult(statistic=-0.14396617266093883, pvalue=0.88605339510011061)"
      ]
     },
     "execution_count": 44,
     "metadata": {},
     "output_type": "execute_result"
    }
   ],
   "source": [
    "stats.ttest_ind(reg1_log, reg2_log)"
   ]
  },
  {
   "cell_type": "code",
   "execution_count": 45,
   "metadata": {},
   "outputs": [
    {
     "data": {
      "text/plain": [
       "Ttest_indResult(statistic=2.8384222378569102, pvalue=0.0058674377367042493)"
      ]
     },
     "execution_count": 45,
     "metadata": {},
     "output_type": "execute_result"
    }
   ],
   "source": [
    "stats.ttest_ind(reg1_log, reg3_log)"
   ]
  },
  {
   "cell_type": "code",
   "execution_count": 46,
   "metadata": {},
   "outputs": [
    {
     "data": {
      "text/plain": [
       "Ttest_indResult(statistic=2.2950494730278956, pvalue=0.026556724803421722)"
      ]
     },
     "execution_count": 46,
     "metadata": {},
     "output_type": "execute_result"
    }
   ],
   "source": [
    "stats.ttest_ind(reg2_log, reg3_log)"
   ]
  }
 ],
 "metadata": {
  "kernelspec": {
   "display_name": "Python 3",
   "language": "python",
   "name": "python3"
  },
  "language_info": {
   "codemirror_mode": {
    "name": "ipython",
    "version": 3
   },
   "file_extension": ".py",
   "mimetype": "text/x-python",
   "name": "python",
   "nbconvert_exporter": "python",
   "pygments_lexer": "ipython3",
   "version": "3.6.0"
  },
  "latex_envs": {
   "LaTeX_envs_menu_present": true,
   "autocomplete": true,
   "bibliofile": "biblio.bib",
   "cite_by": "apalike",
   "current_citInitial": 1,
   "eqLabelWithNumbers": true,
   "eqNumInitial": 1,
   "hotkeys": {
    "equation": "Ctrl-E",
    "itemize": "Ctrl-I"
   },
   "labels_anchors": false,
   "latex_user_defs": false,
   "report_style_numbering": false,
   "user_envs_cfg": false
  }
 },
 "nbformat": 4,
 "nbformat_minor": 2
}
